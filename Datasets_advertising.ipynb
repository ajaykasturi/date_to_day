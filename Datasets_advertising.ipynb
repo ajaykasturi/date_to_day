{
  "nbformat": 4,
  "nbformat_minor": 0,
  "metadata": {
    "colab": {
      "name": "Untitled0.ipynb",
      "provenance": [],
      "authorship_tag": "ABX9TyMYpfabICuHbwCruZmJtFfY",
      "include_colab_link": true
    },
    "kernelspec": {
      "name": "python3",
      "display_name": "Python 3"
    }
  },
  "cells": [
    {
      "cell_type": "markdown",
      "metadata": {
        "id": "view-in-github",
        "colab_type": "text"
      },
      "source": [
        "<a href=\"https://colab.research.google.com/github/ajaykasturi/date_to_day/blob/master/Datasets_advertising.ipynb\" target=\"_parent\"><img src=\"https://colab.research.google.com/assets/colab-badge.svg\" alt=\"Open In Colab\"/></a>"
      ]
    },
    {
      "cell_type": "code",
      "metadata": {
        "id": "Csigvqg-sC6O",
        "colab_type": "code",
        "colab": {}
      },
      "source": [
        "!pip install pandas-profiling\n",
        "\n"
      ],
      "execution_count": 0,
      "outputs": []
    },
    {
      "cell_type": "code",
      "metadata": {
        "id": "Z6JtDSRcsOVr",
        "colab_type": "code",
        "colab": {}
      },
      "source": [
        "import numpy as np #numerical python\n",
        "import pandas as pd #Data manuplation tool\n",
        "import seaborn as sns #data visulization\n",
        "import matplotlib.pyplot as plt #data vizulization\n",
        "from pandas_profiling import ProfileReport #data reporting\n",
        "\n"
      ],
      "execution_count": 0,
      "outputs": []
    },
    {
      "cell_type": "code",
      "metadata": {
        "id": "ouTXUt8bsOUR",
        "colab_type": "code",
        "colab": {}
      },
      "source": [
        "\n",
        "Data=pd.read_csv(\"https://raw.githubusercontent.com/reddyprasade/Data-Sets-For-Machine-Learnig-and-Data-Science/master/DataSets/Advertising.csv\")"
      ],
      "execution_count": 0,
      "outputs": []
    },
    {
      "cell_type": "code",
      "metadata": {
        "id": "GT8VlJlfy_Is",
        "colab_type": "code",
        "colab": {}
      },
      "source": [
        "Data.head()"
      ],
      "execution_count": 0,
      "outputs": []
    },
    {
      "cell_type": "code",
      "metadata": {
        "id": "B7Ez0EiQy_Qs",
        "colab_type": "code",
        "colab": {}
      },
      "source": [
        "Data.tail()"
      ],
      "execution_count": 0,
      "outputs": []
    },
    {
      "cell_type": "code",
      "metadata": {
        "id": "CJKS3Hbv2HRe",
        "colab_type": "code",
        "colab": {}
      },
      "source": [
        "import pandas_profiling"
      ],
      "execution_count": 0,
      "outputs": []
    },
    {
      "cell_type": "code",
      "metadata": {
        "id": "5A3YTQw_2L4y",
        "colab_type": "code",
        "colab": {}
      },
      "source": [
        "pandas_profiling.ProfileReport(Data)"
      ],
      "execution_count": 0,
      "outputs": []
    },
    {
      "cell_type": "code",
      "metadata": {
        "id": "il82YCGb39FX",
        "colab_type": "code",
        "colab": {}
      },
      "source": [
        "Data.info()"
      ],
      "execution_count": 0,
      "outputs": []
    },
    {
      "cell_type": "code",
      "metadata": {
        "id": "gXNYInv339LH",
        "colab_type": "code",
        "colab": {}
      },
      "source": [
        "Data.describe()"
      ],
      "execution_count": 0,
      "outputs": []
    },
    {
      "cell_type": "code",
      "metadata": {
        "id": "LDHge7zJ5Mrn",
        "colab_type": "code",
        "colab": {}
      },
      "source": [
        "ProfileReport(Data)"
      ],
      "execution_count": 0,
      "outputs": []
    },
    {
      "cell_type": "code",
      "metadata": {
        "id": "Yk4pbPP25gaJ",
        "colab_type": "code",
        "colab": {}
      },
      "source": [
        "%matplotlib inline\n",
        "sns.pairplot(Data)"
      ],
      "execution_count": 0,
      "outputs": []
    },
    {
      "cell_type": "code",
      "metadata": {
        "id": "LeFBu7Jp9deS",
        "colab_type": "code",
        "colab": {}
      },
      "source": [
        "Data.columns"
      ],
      "execution_count": 0,
      "outputs": []
    },
    {
      "cell_type": "code",
      "metadata": {
        "id": "5nL5dV8a_9Bc",
        "colab_type": "code",
        "colab": {}
      },
      "source": [
        "Data['TV'].head()#,Data['Sales']"
      ],
      "execution_count": 0,
      "outputs": []
    },
    {
      "cell_type": "code",
      "metadata": {
        "id": "djTBvurT5gkI",
        "colab_type": "code",
        "colab": {}
      },
      "source": [
        "sns.lmplot('TV','Sales',data=Data)"
      ],
      "execution_count": 0,
      "outputs": []
    },
    {
      "cell_type": "code",
      "metadata": {
        "id": "tNqFcoxp5gsu",
        "colab_type": "code",
        "colab": {}
      },
      "source": [
        "sns.lmplot('Radio','Sales',data=Data)"
      ],
      "execution_count": 0,
      "outputs": []
    },
    {
      "cell_type": "code",
      "metadata": {
        "id": "MEDgUdFU5g2R",
        "colab_type": "code",
        "colab": {}
      },
      "source": [
        "sns.lmplot('Newspaper','Sales',data=Data)\n",
        "\n"
      ],
      "execution_count": 0,
      "outputs": []
    },
    {
      "cell_type": "code",
      "metadata": {
        "id": "5bMS4exE5hEW",
        "colab_type": "code",
        "colab": {}
      },
      "source": [
        "plt.figure(figsize=(16,9))\n",
        "plt.scatter(Data['TV'],Data['Sales'])\n",
        "plt.savefig('Data.png')"
      ],
      "execution_count": 0,
      "outputs": []
    },
    {
      "cell_type": "code",
      "metadata": {
        "id": "BscVqFQtD3t_",
        "colab_type": "code",
        "colab": {}
      },
      "source": [
        "x=np.array([1,2,3,4,5])\n",
        "y=np.array([-1,2,4,6,8])\n",
        "plt.scatter(x,y)"
      ],
      "execution_count": 0,
      "outputs": []
    },
    {
      "cell_type": "code",
      "metadata": {
        "id": "e-yCNdkwD4SX",
        "colab_type": "code",
        "colab": {}
      },
      "source": [
        "!pip install scikit-learn\n"
      ],
      "execution_count": 0,
      "outputs": []
    },
    {
      "cell_type": "code",
      "metadata": {
        "id": "MtJptONRFPvh",
        "colab_type": "code",
        "colab": {}
      },
      "source": [
        "from sklearn.linear_model import LinearRegression"
      ],
      "execution_count": 0,
      "outputs": []
    },
    {
      "cell_type": "code",
      "metadata": {
        "id": "vm3tew8MFP4U",
        "colab_type": "code",
        "colab": {}
      },
      "source": [
        "Model=LinearRegression()"
      ],
      "execution_count": 0,
      "outputs": []
    },
    {
      "cell_type": "code",
      "metadata": {
        "id": "cmSWv3qhFyTT",
        "colab_type": "code",
        "colab": {}
      },
      "source": [
        "x=Data[['TV']]\n",
        "y=Data['Sales']"
      ],
      "execution_count": 0,
      "outputs": []
    },
    {
      "cell_type": "markdown",
      "metadata": {
        "id": "nMxKAYmUHkjp",
        "colab_type": "text"
      },
      "source": [
        "$y = mx+c$\n",
        "$y = \\beta_0 + \\beta_1*x$"
      ]
    },
    {
      "cell_type": "code",
      "metadata": {
        "id": "eQSIUfEDFyXt",
        "colab_type": "code",
        "colab": {
          "base_uri": "https://localhost:8080/",
          "height": 34
        },
        "outputId": "4e758fbe-2efd-4457-f19b-3a7dc13166bd"
      },
      "source": [
        "Model.fit(x,y)"
      ],
      "execution_count": 127,
      "outputs": [
        {
          "output_type": "execute_result",
          "data": {
            "text/plain": [
              "LinearRegression(copy_X=True, fit_intercept=True, n_jobs=None, normalize=False)"
            ]
          },
          "metadata": {
            "tags": []
          },
          "execution_count": 127
        }
      ]
    },
    {
      "cell_type": "code",
      "metadata": {
        "id": "AY9tBxRBFySU",
        "colab_type": "code",
        "colab": {
          "base_uri": "https://localhost:8080/",
          "height": 34
        },
        "outputId": "1b0766dd-c14c-40ca-fa19-6bd42f8019e9"
      },
      "source": [
        "Model.intercept_"
      ],
      "execution_count": 126,
      "outputs": [
        {
          "output_type": "execute_result",
          "data": {
            "text/plain": [
              "7.032593549127695"
            ]
          },
          "metadata": {
            "tags": []
          },
          "execution_count": 126
        }
      ]
    },
    {
      "cell_type": "code",
      "metadata": {
        "id": "o_9UVR1OIH0Y",
        "colab_type": "code",
        "colab": {
          "base_uri": "https://localhost:8080/",
          "height": 34
        },
        "outputId": "17d00f24-77b9-405a-ed22-057f2a906126"
      },
      "source": [
        "Model.coef_"
      ],
      "execution_count": 128,
      "outputs": [
        {
          "output_type": "execute_result",
          "data": {
            "text/plain": [
              "array([0.04753664])"
            ]
          },
          "metadata": {
            "tags": []
          },
          "execution_count": 128
        }
      ]
    },
    {
      "cell_type": "code",
      "metadata": {
        "id": "GHpEY-H2IH8K",
        "colab_type": "code",
        "colab": {
          "base_uri": "https://localhost:8080/",
          "height": 286
        },
        "outputId": "844efa03-7cc1-4f79-d45e-1084c6a75245"
      },
      "source": [
        "plt.scatter(x,y)\n",
        "plt.plot(x, (Model.coef_*x)+Model.intercept_,c='g')"
      ],
      "execution_count": 129,
      "outputs": [
        {
          "output_type": "execute_result",
          "data": {
            "text/plain": [
              "[<matplotlib.lines.Line2D at 0x7fd8c5b6b668>]"
            ]
          },
          "metadata": {
            "tags": []
          },
          "execution_count": 129
        },
        {
          "output_type": "display_data",
          "data": {
            "image/png": "[encoded data removed]",
            "text/plain": [
              "<Figure size 432x288 with 1 Axes>"
            ]
          },
          "metadata": {
            "tags": []
          }
        }
      ]
    },
    {
      "cell_type": "code",
      "metadata": {
        "id": "5sTwouLYIH7E",
        "colab_type": "code",
        "colab": {}
      },
      "source": [
        ""
      ],
      "execution_count": 0,
      "outputs": []
    },
    {
      "cell_type": "markdown",
      "metadata": {
        "id": "5SEGp4lzPdSc",
        "colab_type": "text"
      },
      "source": [
        "TV=50\n",
        "Radio=50\n",
        "Newspaper=50\n",
        "Sales=?"
      ]
    },
    {
      "cell_type": "code",
      "metadata": {
        "id": "0Aa4OQ1NMGOA",
        "colab_type": "code",
        "colab": {}
      },
      "source": [
        "Model.predict([[50,50,50]])#if i give 50 advertisements in tv my sales is "
      ],
      "execution_count": 0,
      "outputs": []
    },
    {
      "cell_type": "code",
      "metadata": {
        "id": "heZ7MiaZMXYB",
        "colab_type": "code",
        "colab": {
          "base_uri": "https://localhost:8080/",
          "height": 34
        },
        "outputId": "006f3a8b-354a-4b44-f4fc-842f2f303001"
      },
      "source": [
        "Model.predict([[38. 2]])"
      ],
      "execution_count": 119,
      "outputs": [
        {
          "output_type": "execute_result",
          "data": {
            "text/plain": [
              "array([8.84849321])"
            ]
          },
          "metadata": {
            "tags": []
          },
          "execution_count": 119
        }
      ]
    },
    {
      "cell_type": "code",
      "metadata": {
        "id": "fHb4BG-zMXgL",
        "colab_type": "code",
        "colab": {}
      },
      "source": [
        ""
      ],
      "execution_count": 0,
      "outputs": []
    },
    {
      "cell_type": "code",
      "metadata": {
        "id": "8lWqesduMXnZ",
        "colab_type": "code",
        "colab": {}
      },
      "source": [
        ""
      ],
      "execution_count": 0,
      "outputs": []
    },
    {
      "cell_type": "code",
      "metadata": {
        "id": "Gn04M7FDMXuI",
        "colab_type": "code",
        "colab": {}
      },
      "source": [
        ""
      ],
      "execution_count": 0,
      "outputs": []
    }
  ]
}